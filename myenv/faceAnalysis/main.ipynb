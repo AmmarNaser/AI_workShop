{
 "cells": [
  {
   "cell_type": "code",
   "execution_count": null,
   "metadata": {},
   "outputs": [],
   "source": [
    "pip install deepface"
   ]
  },
  {
   "cell_type": "code",
   "execution_count": null,
   "metadata": {},
   "outputs": [],
   "source": [
    "pip install tf-keras"
   ]
  },
  {
   "cell_type": "code",
   "execution_count": null,
   "metadata": {},
   "outputs": [],
   "source": [
    "import cv2\n",
    "from deepface import DeepFace\n",
    "import matplotlib.pyplot as plt"
   ]
  },
  {
   "cell_type": "code",
   "execution_count": null,
   "metadata": {},
   "outputs": [],
   "source": [
    "image_path = 'kaggle/input/image2/man.jpg'\n",
    "image = cv2.imread(image_path)\n",
    "image_rgb = cv2.cvtColor(image, cv2.COLOR_BGR2RGB)\n",
    "plt.imshow(image_rgb)\n",
    "plt.axis('off')\n",
    "plt.show()"
   ]
  },
  {
   "cell_type": "code",
   "execution_count": null,
   "metadata": {},
   "outputs": [],
   "source": [
    "\n",
    "result = DeepFace.analyze(image_path, actions=['age', 'gender', 'race', 'emotion'])\n",
    "\n",
    "print(result)"
   ]
  },
  {
   "cell_type": "code",
   "execution_count": null,
   "metadata": {},
   "outputs": [],
   "source": [
    "# Display the structure of the result\n",
    "for res in result:\n",
    "      print(f\"Age: {res['age']}, Gender: {res['dominant_gender']},  Region: {res['dominant_race']}, Emotion: {res['dominant_emotion']}\")\n",
    "\n",
    "#Adjusted code for drawing rectangles and annotations\n",
    "for face in result:\n",
    "    region = face['region']\n",
    "    x, y, w, h = region['x'], region['y'], region['w'], region['h']\n",
    "    \n",
    "    cv2.rectangle(image_rgb, (x, y), (x + w, y + h), (0, 255, 0), 2)\n",
    "    cv2.putText(image_rgb, \n",
    "                f\"{face['dominant_emotion']}, {face['age']}, {face['dominant_gender']}\", \n",
    "                (x, y - 10), \n",
    "                cv2.FONT_HERSHEY_SIMPLEX, \n",
    "                0.5, \n",
    "                (0, 255, 0), \n",
    "                2, \n",
    "                cv2.LINE_AA)\n",
    "\n",
    "plt.imshow(image_rgb)\n",
    "plt.axis('off')\n",
    "plt.show()"
   ]
  }
 ],
 "metadata": {
  "kernelspec": {
   "display_name": "myenv",
   "language": "python",
   "name": "python3"
  },
  "language_info": {
   "codemirror_mode": {
    "name": "ipython",
    "version": 3
   },
   "file_extension": ".py",
   "mimetype": "text/x-python",
   "name": "python",
   "nbconvert_exporter": "python",
   "pygments_lexer": "ipython3",
   "version": "3.12.4"
  }
 },
 "nbformat": 4,
 "nbformat_minor": 2
}
